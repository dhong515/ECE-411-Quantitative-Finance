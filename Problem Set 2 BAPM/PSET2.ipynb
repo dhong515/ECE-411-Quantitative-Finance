{
  "nbformat": 4,
  "nbformat_minor": 0,
  "metadata": {
    "colab": {
      "provenance": []
    },
    "kernelspec": {
      "name": "python3",
      "display_name": "Python 3"
    },
    "language_info": {
      "name": "python"
    },
    "gpuClass": "standard"
  },
  "cells": [
    {
      "cell_type": "markdown",
      "source": [
        "Danny Hong ECE-411 Problem Set 2: BAPM (Binomial Asset Pricing Model):\n",
        "\n",
        "The following project consists of two classes that contain all the required functions for the Binomial Asset Pricing Model. One class deals with path-independent options while the other deals with the more general path-dependent options through performing Monte Carlo simulations. "
      ],
      "metadata": {
        "id": "cnYtsmqLF7FI"
      }
    },
    {
      "cell_type": "code",
      "source": [
        "import numpy as np\n",
        "import scipy.stats as ss\n",
        "from IPython.display import display, Math"
      ],
      "metadata": {
        "id": "OTtO4zR5FRis"
      },
      "execution_count": 66,
      "outputs": []
    },
    {
      "cell_type": "code",
      "execution_count": 67,
      "metadata": {
        "id": "D6ynLY7NKV8y"
      },
      "outputs": [],
      "source": [
        "class BAPM:\n",
        "  def __init__(self, r, d, u, S0, K):\n",
        "    self.r = r\n",
        "    self.u = u\n",
        "    self.d = d\n",
        "    self.S0 = S0\n",
        "    self.K = K\n",
        "\n",
        "    if S0 <= 0:\n",
        "      raise ValueError(\"Error! The initial stock price, S0, must be positive.\")\n",
        "\n",
        "    if (1 + self.r) > self.u or (1 + self.r) < self.d:\n",
        "      raise Exception(\"Error! There is arbitrage in the following system.\")\n",
        "\n",
        "  def get_risk_neutral_probability(self):\n",
        "    risk_neutral_probability = (1 + self.r - self.d) / (self.u - self.d)\n",
        "    return risk_neutral_probability\n",
        "\n",
        "  def get_stock_price(self, num_H, num_T, S0 = None):\n",
        "    if S0 == None:\n",
        "      S0 = self.S0\n",
        "    stock_price = S0 * (self.u ** num_H) * (self.d ** num_T)\n",
        "    return stock_price\n",
        "\n",
        "  def get_european_call_option_value(self, stock_price):\n",
        "    european_call_option_value = np.maximum(0, stock_price - self.K)\n",
        "    return european_call_option_value\n",
        "\n",
        "  def get_discount_factor(self, T):\n",
        "    discount_factor = 1 / ((1 + self.r) ** T)\n",
        "    return discount_factor\n",
        "\n",
        "  def path_independent_expected_value_simultation(self, T, p):\n",
        "    if type(T) != int or T <= 0:\n",
        "      raise ValueError(\"Error! The number of time steps (coin flips), T, must be a positive integer!\")\n",
        "    \n",
        "    Sn = 0\n",
        "    Vn = 0\n",
        "\n",
        "    for i in range(T + 1): \n",
        "      stock_price = self.get_stock_price(i, T - i)\n",
        "      binomial_pmf = ss.binom(T, p).pmf(i)\n",
        "      european_call_option_value = self.get_european_call_option_value(stock_price)\n",
        "      discount_factor = self.get_discount_factor(T)\n",
        "\n",
        "      Sn = Sn + stock_price * binomial_pmf\n",
        "      Vn = Vn + european_call_option_value * binomial_pmf\n",
        "\n",
        "    Sn = Sn * discount_factor \n",
        "    Vn = Vn * discount_factor \n",
        "\n",
        "    return Sn, Vn\n",
        "\n",
        "  def single_step_replicating_portfolio(self, VH, VT):\n",
        "    equation_1 = np.array([[(1 + self.r), (self.u - (1 + self.r)) * self.S0], [(1 + self.r), (self.d - (1 + self.r)) * self.S0]])\n",
        "    equation_2 = np.array([VH, VT])\n",
        "    V0, delta = np.linalg.solve(equation_1, equation_2)\n",
        "\n",
        "    return V0, delta \n",
        "  \n",
        "  def multi_step_replicating_portfolio(self, N, path = []):\n",
        "    if type(N) != int or N <= 0:\n",
        "      raise ValueError(\"Error! The number of timesteps, N, must be a positive integer!\")\n",
        "      \n",
        "    self.replicating_deltas = [None] * ((2 ** N) - 1)\n",
        "    V0 = self.recursive_step_replicating_portfolio(N, path)[0]\n",
        "    \n",
        "    return V0, self.replicating_deltas\n",
        "\n",
        "  def recursive_step_replicating_portfolio(self, N, path = []):\n",
        "    if type(N) != int or N <= 0:\n",
        "      raise ValueError(\"Error! The number of timesteps, N, must be a positive integer!\")\n",
        "\n",
        "    if len(path) != N:\n",
        "      path_H = path + [1]\n",
        "      path_T = path + [0]\n",
        "\n",
        "    else:\n",
        "      stock_price = self.get_stock_price(np.sum(path), len(path) - np.sum(path))\n",
        "      european_call_option_value = self.get_european_call_option_value(stock_price) \n",
        "      return european_call_option_value, 1\n",
        "\n",
        "    VH = self.recursive_step_replicating_portfolio(N, path_H)\n",
        "    VT = self.recursive_step_replicating_portfolio(N, path_T)\n",
        "      \n",
        "    V0, delta = self.single_step_replicating_portfolio(VH[0], VT[0])\n",
        "    \n",
        "    binary_tree_index = 0\n",
        "    if len(path) != 0:\n",
        "      for p in path:\n",
        "        binary_tree_index = binary_tree_index * 2 + p + 1\n",
        "\n",
        "    self.replicating_deltas[binary_tree_index] = delta\n",
        "\n",
        "    return V0, delta"
      ]
    },
    {
      "cell_type": "code",
      "source": [
        "class MC_BAPM(BAPM):\n",
        "  def get_random_paths(self, p, M, N):\n",
        "    random_paths = np.random.choice([0, 1], size = (M, N), p = [(1 - p), p])\n",
        "    return random_paths  \n",
        "\n",
        "  def get_lookback_option_value(self, SN, N):\n",
        "    S = SN[-1]\n",
        "    VN = []\n",
        "    for n in range(len(SN)): \n",
        "      VN.append(((1 + self.r) ** (N - (n + 1))) * (SN[n] - S))\n",
        "    lookback_option_value = np.max(VN)\n",
        "    return lookback_option_value\n",
        "\n",
        "  def path_dependent_expected_value_simultation(self, p, M, N, S0 = None, path = [], lookback_option = False):\n",
        "    if type(N) != int or N <= 0:\n",
        "      raise ValueError(\"Error! The number of timesteps, N, must be a positive integer!\")\n",
        "\n",
        "    if type(M) != int or M <= 0:\n",
        "      raise ValueError(\"Error! The number of samples, M, must be a positive integer!\")\n",
        "\n",
        "    if S0 == None:\n",
        "      S0 = self.S0\n",
        "\n",
        "    random_paths = self.get_random_paths(p, M, N) \n",
        "    if len(path) != 0:\n",
        "      random_paths = np.concatenate((np.tile(path, (M, 1)), random_paths), axis = 1)\n",
        "\n",
        "    SN = self.get_stock_price(np.sum(random_paths, 1), random_paths.shape[1] - np.sum(random_paths, 1), S0)\n",
        "\n",
        "    if lookback_option != False:\n",
        "      V0 = self.get_lookback_option_value(SN, N)\n",
        "\n",
        "    else:\n",
        "      V0 = self.get_european_call_option_value(SN)\n",
        "\n",
        "    SN_avg = np.mean(SN) * self.get_discount_factor(N)\n",
        "    VN_avg = np.mean(V0) * self.get_discount_factor(N)\n",
        "\n",
        "    return SN_avg, VN_avg"
      ],
      "metadata": {
        "id": "0i1PdH-k2zqS"
      },
      "execution_count": 56,
      "outputs": []
    },
    {
      "cell_type": "markdown",
      "source": [
        "Exact Simulation"
      ],
      "metadata": {
        "id": "qjkdXn2DQyei"
      }
    },
    {
      "cell_type": "code",
      "source": [
        "#1a.)\n",
        "\n",
        "r = 0.25 \n",
        "d = 0.5 \n",
        "u = 2 \n",
        "S0 = 4 \n",
        "K = 5\n",
        "\n",
        "bapm = BAPM(r, d, u, S0, K)\n",
        "\n",
        "print(\"Sample Path Independent Expected Value Computation:\")\n",
        "print(\"----------------------------------------------------\")\n",
        "\n",
        "N = 1 \n",
        "display(Math(r\"$ N = \" + str(N) + \"$\"))\n",
        "\n",
        "p_tilde = bapm.get_risk_neutral_probability()\n",
        "display(Math(r\"$ p̃ = \" + str(p_tilde) + \"$\"))\n",
        "\n",
        "S0, V0 = bapm.path_independent_expected_value_simultation(N, p_tilde)\n",
        "display(Math(r\"$ E_p[V_N] = \" + str(V0) + \"$\"))\n",
        "print(\"----------------------------------------------------\")"
      ],
      "metadata": {
        "colab": {
          "base_uri": "https://localhost:8080/",
          "height": 133
        },
        "id": "tpgXzWbZAr2z",
        "outputId": "7b2a9d61-ff79-43d6-b1a1-658f6e4dea13"
      },
      "execution_count": 57,
      "outputs": [
        {
          "output_type": "stream",
          "name": "stdout",
          "text": [
            "Sample Path Independent Expected Value Computation:\n",
            "----------------------------------------------------\n"
          ]
        },
        {
          "output_type": "display_data",
          "data": {
            "text/plain": [
              "<IPython.core.display.Math object>"
            ],
            "text/latex": "$\\displaystyle  N = 1$"
          },
          "metadata": {}
        },
        {
          "output_type": "display_data",
          "data": {
            "text/plain": [
              "<IPython.core.display.Math object>"
            ],
            "text/latex": "$\\displaystyle  p̃ = 0.5$"
          },
          "metadata": {}
        },
        {
          "output_type": "display_data",
          "data": {
            "text/plain": [
              "<IPython.core.display.Math object>"
            ],
            "text/latex": "$\\displaystyle  E_p[V_N] = 1.2000000000000002$"
          },
          "metadata": {}
        },
        {
          "output_type": "stream",
          "name": "stdout",
          "text": [
            "----------------------------------------------------\n"
          ]
        }
      ]
    },
    {
      "cell_type": "code",
      "source": [
        "#1b.) \n",
        "\n",
        "r = 0.25 \n",
        "d = 0.5 \n",
        "u = 2 \n",
        "S0 = 4 \n",
        "K = 5\n",
        "\n",
        "bapm = BAPM(r, d, u, S0, K)\n",
        "\n",
        "print(\"Single Step Replicating Portfolio Results:\")\n",
        "print(\"-------------------------------------------\")\n",
        "\n",
        "XH_1 = bapm.get_european_call_option_value(S0 * u)\n",
        "display(Math(r\"$ X_1(Heads) = \" + str(int(XH_1)) + r\"$\" )) \n",
        "XT_1 = bapm.get_european_call_option_value(S0 * d)\n",
        "display(Math(r\"$ X_1(Tails) = \" + str(int(XT_1)) + r\"$\" )) \n",
        "\n",
        "V0, delta = bapm.single_step_replicating_portfolio(XH_1, XT_1)\n",
        "display(Math(r\"$ E_p[V_N] = \" + str(V0) + r\"$\" )) \n",
        "display(Math(r\"$ \\Delta = \" + str(delta) + r\"$\"))\n",
        "print(\"-------------------------------------------\")"
      ],
      "metadata": {
        "colab": {
          "base_uri": "https://localhost:8080/",
          "height": 155
        },
        "id": "V5CPCGMPH-Dp",
        "outputId": "53dd76bb-b13d-4c9f-b0a9-a27f605bacf3"
      },
      "execution_count": 58,
      "outputs": [
        {
          "output_type": "stream",
          "name": "stdout",
          "text": [
            "Single Step Replicating Portfolio Results:\n",
            "-------------------------------------------\n"
          ]
        },
        {
          "output_type": "display_data",
          "data": {
            "text/plain": [
              "<IPython.core.display.Math object>"
            ],
            "text/latex": "$\\displaystyle  X_1(Heads) = 3$"
          },
          "metadata": {}
        },
        {
          "output_type": "display_data",
          "data": {
            "text/plain": [
              "<IPython.core.display.Math object>"
            ],
            "text/latex": "$\\displaystyle  X_1(Tails) = 0$"
          },
          "metadata": {}
        },
        {
          "output_type": "display_data",
          "data": {
            "text/plain": [
              "<IPython.core.display.Math object>"
            ],
            "text/latex": "$\\displaystyle  E_p[V_N] = 1.2$"
          },
          "metadata": {}
        },
        {
          "output_type": "display_data",
          "data": {
            "text/plain": [
              "<IPython.core.display.Math object>"
            ],
            "text/latex": "$\\displaystyle  \\Delta = 0.5$"
          },
          "metadata": {}
        },
        {
          "output_type": "stream",
          "name": "stdout",
          "text": [
            "-------------------------------------------\n"
          ]
        }
      ]
    },
    {
      "cell_type": "code",
      "source": [
        "#1c.) \n",
        "\n",
        "r = 0.25\n",
        "d = 0.5\n",
        "u = 2\n",
        "S0 = 4\n",
        "K = 3\n",
        "\n",
        "bapm = BAPM(r, d, u, S0, K)\n",
        "\n",
        "print(\"1.) No, the deltas are not path independent.\\n\")\n",
        "print(\"2.) Multi Step Replicating Portfolio Results:\")\n",
        "\n",
        "print(\"------------------------------------------------------------\")\n",
        "\n",
        "N = 2\n",
        "display(Math(r\"$ N = \" + str(N) + r\"$\" +''))\n",
        "\n",
        "V0, deltas = bapm.multi_step_replicating_portfolio(N)\n",
        "\n",
        "display(Math(r\"$ V_0 = \" + str(V0) + r\"$\" )) \n",
        "display(Math(r\"$ \\Delta = \"  + str(deltas) + r\"$\"))\n",
        "print(\"------------------------------------------------------------\")"
      ],
      "metadata": {
        "id": "j8waiVePS1ey",
        "colab": {
          "base_uri": "https://localhost:8080/",
          "height": 168
        },
        "outputId": "a0ae34cc-42ee-48ab-8b04-43eb0e04c8c1"
      },
      "execution_count": 59,
      "outputs": [
        {
          "output_type": "stream",
          "name": "stdout",
          "text": [
            "1.) No, the deltas are not path independent.\n",
            "\n",
            "2.) Multi Step Replicating Portfolio Results:\n",
            "------------------------------------------------------------\n"
          ]
        },
        {
          "output_type": "display_data",
          "data": {
            "text/plain": [
              "<IPython.core.display.Math object>"
            ],
            "text/latex": "$\\displaystyle  N = 2$"
          },
          "metadata": {}
        },
        {
          "output_type": "display_data",
          "data": {
            "text/plain": [
              "<IPython.core.display.Math object>"
            ],
            "text/latex": "$\\displaystyle  V_0 = 2.4$"
          },
          "metadata": {}
        },
        {
          "output_type": "display_data",
          "data": {
            "text/plain": [
              "<IPython.core.display.Math object>"
            ],
            "text/latex": "$\\displaystyle  \\Delta = [0.8666666666666666, 0.16666666666666666, 2.0]$"
          },
          "metadata": {}
        },
        {
          "output_type": "stream",
          "name": "stdout",
          "text": [
            "------------------------------------------------------------\n"
          ]
        }
      ]
    },
    {
      "cell_type": "code",
      "source": [
        "#1d.) \n",
        "\n",
        "S0 = 5\n",
        "r = 0.05\n",
        "u = 1.1\n",
        "d = 1.01\n",
        "N = 5\n",
        "K = ((1 + r) ** N) * S0\n",
        "\n",
        "bapm = BAPM(r, d, u, S0, K)\n",
        "\n",
        "print(\"1.) Path Independent Expected Value Computations:\")\n",
        "print(\"-----------------------------------------------------\")\n",
        "\n",
        "p_tilde = bapm.get_risk_neutral_probability()\n",
        "S0_neutral, V0_neutral = bapm.path_independent_expected_value_simultation(N, p_tilde)\n",
        "display(Math(r\"$ p = \" + str(p_tilde) + \",\" + \"E_p[S_N] = \" + str(S0_neutral) + \",\" + \"E_p[V_N] = \" + str(V0_neutral) + r\"$\" ))\n",
        "\n",
        "p_tilde_greater = p_tilde + 0.05\n",
        "V0_greater, S0_greater = bapm.path_independent_expected_value_simultation(N, p_tilde_greater)\n",
        "display(Math(r\"$ p = \" + str(p_tilde_greater) + \",\" + \"E_p[S_N] = \" + str(S0_greater) + \",\" + \"E_p[V_N] = \" + str(V0_greater) + r\"$\" ))\n",
        "\n",
        "p_tilde_lower = p_tilde - 0.05\n",
        "V0_lower, S0_lower = bapm.path_independent_expected_value_simultation(N, p_tilde_lower)\n",
        "display(Math(r\"$ p = \" + str(p_tilde_lower) + \",\" + \"E_p[S_N] = \" + str(S0_lower) + \",\" + \"E_p[V_N] = \" + str(V0_lower) + r\"$\" ))\n",
        "\n",
        "print(\"-----------------------------------------------------\")\n",
        "print(\"The correct values for S0 and V0 can be calculated through the p̃ (risk neutral probability) case.\")\n",
        "print(\"Depending on if one is buying or selling a stock, a risk premium can be observed for the other two incorrect p values.\")\n",
        "\n",
        "print(\"\\n2.) Multi Step Replicating Portfolio Results:\")\n",
        "print(\"-----------------------------------------------------\")\n",
        "\n",
        "V0, deltas = bapm.multi_step_replicating_portfolio(N)\n",
        "\n",
        "display(Math(r\"$ V_0 = \" + str(V0) + r\"$\" )) \n",
        "display(Math(r\"$ \\Delta = \" + str(deltas) + r\"$\"))\n",
        "print(\"-----------------------------------------------------\")\n",
        "\n",
        "print(\"\\nNo short selling of the stock nor borrowing money from the money market need to take place along the way since all the delta values are greater than or equal to 0.\")\n"
      ],
      "metadata": {
        "id": "D4YUMxzcNt_d",
        "colab": {
          "base_uri": "https://localhost:8080/",
          "height": 356
        },
        "outputId": "257d1cc3-70f6-4c58-de1a-0527b0daa861"
      },
      "execution_count": 60,
      "outputs": [
        {
          "output_type": "stream",
          "name": "stdout",
          "text": [
            "1.) Path Independent Expected Value Computations:\n",
            "-----------------------------------------------------\n"
          ]
        },
        {
          "output_type": "display_data",
          "data": {
            "text/plain": [
              "<IPython.core.display.Math object>"
            ],
            "text/latex": "$\\displaystyle  p = 0.4444444444444444,E_p[S_N] = 4.999999999999997,E_p[V_N] = 0.19515737602674935$"
          },
          "metadata": {}
        },
        {
          "output_type": "display_data",
          "data": {
            "text/plain": [
              "<IPython.core.display.Math object>"
            ],
            "text/latex": "$\\displaystyle  p = 0.4944444444444444,E_p[S_N] = 0.25713602006571473,E_p[V_N] = 5.108065168791066$"
          },
          "metadata": {}
        },
        {
          "output_type": "display_data",
          "data": {
            "text/plain": [
              "<IPython.core.display.Math object>"
            ],
            "text/latex": "$\\displaystyle  p = 0.39444444444444443,E_p[S_N] = 0.1424644972584834,E_p[V_N] = 4.8937715827707775$"
          },
          "metadata": {}
        },
        {
          "output_type": "stream",
          "name": "stdout",
          "text": [
            "-----------------------------------------------------\n",
            "The correct values for S0 and V0 can be calculated through the p̃ (risk neutral probability) case.\n",
            "Depending on if one is buying or selling a stock, a risk premium can be observed for the other two incorrect p values.\n",
            "\n",
            "2.) Multi Step Replicating Portfolio Results:\n",
            "-----------------------------------------------------\n"
          ]
        },
        {
          "output_type": "display_data",
          "data": {
            "text/plain": [
              "<IPython.core.display.Math object>"
            ],
            "text/latex": "$\\displaystyle  V_0 = 0.19515737602674946$"
          },
          "metadata": {}
        },
        {
          "output_type": "display_data",
          "data": {
            "text/plain": [
              "<IPython.core.display.Math object>"
            ],
            "text/latex": "$\\displaystyle  \\Delta = [0.5351893058945858, 0.359391128788775, 0.81514582418999, 0.16218839213783356, 0.646326051591189, 0.646326051591189, 1.1178744451598652, -0.0, 0.3831700764256318, 0.3831700764256318, 1.0479827013521448, 0.3831700764256318, 1.0479827013521448, 1.0479827013521448, 1.3310000000000002, -0.0, -0.0, -0.0, 0.9052393055555553, -0.0, 0.9052393055555553, 0.9052393055555553, 1.3443099999999977, -0.0, 0.9052393055555553, 0.9052393055555553, 1.3443099999999977, 0.9052393055555553, 1.3443099999999977, 1.3443099999999977, 1.4641000000000035]$"
          },
          "metadata": {}
        },
        {
          "output_type": "stream",
          "name": "stdout",
          "text": [
            "-----------------------------------------------------\n",
            "\n",
            "No short selling of the stock nor borrowing money from the money market need to take place along the way since all the delta values are greater than or equal to 0.\n"
          ]
        }
      ]
    },
    {
      "cell_type": "markdown",
      "source": [
        "Monte Carlo Simulation"
      ],
      "metadata": {
        "id": "iY_XR58aPKGI"
      }
    },
    {
      "cell_type": "code",
      "source": [
        "#2a.)\n",
        "S0 = 1\n",
        "r = 0.25\n",
        "u = 1.5\n",
        "d = 0.75\n",
        "N = 5\n",
        "K = ((1 + r) ** N) * S0\n",
        "M = [1, 5, 10, 32]\n",
        "\n",
        "mc_bapm = MC_BAPM(r, d, u, S0, K)\n",
        "p_tilde = mc_bapm.get_risk_neutral_probability()\n",
        "\n",
        "print(\"Sample Monte Carlo Path Dependent Expected Value Computations Where N = 5:\")\n",
        "print(\"--------------------------------------------------------------------------\")\n",
        "\n",
        "display(Math(r\"$ S_0 = \" + str(S0) + \"$\"))\n",
        "p_tilde = mc_bapm.get_risk_neutral_probability()\n",
        "display(Math(r\"$ p̃ = \" + str(p_tilde) + \"$\"))\n",
        "\n",
        "SN_1, V0_1 = mc_bapm.path_dependent_expected_value_simultation(p_tilde, M[0], N)\n",
        "display(Math(r\"$ M = \" + str(M[0]) +  \",\" + \"S_N = \" + str(SN_1) + \",\" + \"V_0 = \" + str(V0_1) + r\"$\"))\n",
        "\n",
        "SN_5, V0_5 = mc_bapm.path_dependent_expected_value_simultation(p_tilde, M[1], N)\n",
        "display(Math(r\"$ M = \" + str(M[1]) +  \",\" + \"S_N = \" + str(SN_5) + \",\" + \"V_0 = \" + str(V0_5) + r\"$\"))\n",
        "\n",
        "SN_10, V0_10 = mc_bapm.path_dependent_expected_value_simultation(p_tilde, M[2], N)\n",
        "display(Math(r\"$ M = \" + str(M[2]) +  \",\" + \"S_N = \" + str(SN_10) + \",\" + \"V_0 = \" + str(V0_10) + r\"$\"))\n",
        "\n",
        "SN_32, V0_32 = mc_bapm.path_dependent_expected_value_simultation(p_tilde, M[3], N)\n",
        "display(Math(r\"$ M = \" + str(M[3]) +  \",\" + \"S_N = \" + str(SN_32) + \",\" + \"V_0 = \" + str(V0_32) + r\"$\"))\n",
        "\n",
        "print(\"----------------------------------------------------------------\")\n",
        "\n",
        "print(\"\\nVerification Through the Multi-Step Replicating Portfolio Where N = 5:\")\n",
        "print(\"-------------------------------------------------------------------------\")\n",
        "V0, delta = mc_bapm.multi_step_replicating_portfolio(N)\n",
        "display(Math(r\"$ V_0 = \" + str(V0) + r\"$\" ))\n",
        "print(\"----------------------------------------------------------------\")\n",
        "print(\"The Monte Carlo estimates here for S0 and V0 are not that accurate since the chosen M values are rather small.\")"
      ],
      "metadata": {
        "colab": {
          "base_uri": "https://localhost:8080/",
          "height": 308
        },
        "id": "gdQ-So8kO4PU",
        "outputId": "ff99edaf-4f3c-4624-9e5f-396b5cada8da"
      },
      "execution_count": 61,
      "outputs": [
        {
          "output_type": "stream",
          "name": "stdout",
          "text": [
            "Sample Monte Carlo Path Dependent Expected Value Computations Where N = 5:\n",
            "--------------------------------------------------------------------------\n"
          ]
        },
        {
          "output_type": "display_data",
          "data": {
            "text/plain": [
              "<IPython.core.display.Math object>"
            ],
            "text/latex": "$\\displaystyle  S_0 = 1$"
          },
          "metadata": {}
        },
        {
          "output_type": "display_data",
          "data": {
            "text/plain": [
              "<IPython.core.display.Math object>"
            ],
            "text/latex": "$\\displaystyle  p̃ = 0.6666666666666666$"
          },
          "metadata": {}
        },
        {
          "output_type": "display_data",
          "data": {
            "text/plain": [
              "<IPython.core.display.Math object>"
            ],
            "text/latex": "$\\displaystyle  M = 1,S_N = 1.2441600000000002,V_0 = 0.24416000000000002$"
          },
          "metadata": {}
        },
        {
          "output_type": "display_data",
          "data": {
            "text/plain": [
              "<IPython.core.display.Math object>"
            ],
            "text/latex": "$\\displaystyle  M = 5,S_N = 1.741824,V_0 = 0.741824$"
          },
          "metadata": {}
        },
        {
          "output_type": "display_data",
          "data": {
            "text/plain": [
              "<IPython.core.display.Math object>"
            ],
            "text/latex": "$\\displaystyle  M = 10,S_N = 0.7776000000000001,V_0 = 0.097664$"
          },
          "metadata": {}
        },
        {
          "output_type": "display_data",
          "data": {
            "text/plain": [
              "<IPython.core.display.Math object>"
            ],
            "text/latex": "$\\displaystyle  M = 32,S_N = 1.2052800000000001,V_0 = 0.43312000000000006$"
          },
          "metadata": {}
        },
        {
          "output_type": "stream",
          "name": "stdout",
          "text": [
            "----------------------------------------------------------------\n",
            "\n",
            "Verification Through the Multi-Step Replicating Portfolio Where N = 5:\n",
            "-------------------------------------------------------------------------\n"
          ]
        },
        {
          "output_type": "display_data",
          "data": {
            "text/plain": [
              "<IPython.core.display.Math object>"
            ],
            "text/latex": "$\\displaystyle  V_0 = 0.27637465020576135$"
          },
          "metadata": {}
        },
        {
          "output_type": "stream",
          "name": "stdout",
          "text": [
            "----------------------------------------------------------------\n",
            "The Monte Carlo estimates here for S0 and V0 are not that accurate since the chosen M values are rather small.\n"
          ]
        }
      ]
    },
    {
      "cell_type": "code",
      "source": [
        "#2b.)\n",
        "S0 = 1\n",
        "r = 10 ** -3\n",
        "u = 1 + 5 * (10 ** -3)\n",
        "d = 1 + (10 ** -4)\n",
        "N = 10\n",
        "K = ((1 + r) ** N) * S0\n",
        "M = [1, 4, 64, 4096, 32768, 1048576]\n",
        "\n",
        "mc_bapm = MC_BAPM(r, d, u, S0, K)\n",
        "p_tilde = mc_bapm.get_risk_neutral_probability()\n",
        "\n",
        "print(\"Sample Monte Carlo Path Dependent Expected Value Computations Where N = 10:\")\n",
        "print(\"---------------------------------------------------------------------------\")\n",
        "\n",
        "display(Math(r\"$ S_0 = \" + str(S0) + \"$\"))\n",
        "\n",
        "p_tilde = mc_bapm.get_risk_neutral_probability()\n",
        "display(Math(r\"$ p̃ = \" + str(p_tilde) + \"$\"))\n",
        "\n",
        "SN_1, V0_1 = mc_bapm.path_dependent_expected_value_simultation(p_tilde, M[0], N)\n",
        "display(Math(r\"$ M = \" + str(M[0]) +  \",\" + \"S_N = \" + str(SN_1) + \",\" + \"V_0 = \" + str(V0_1) + r\"$\"))\n",
        "\n",
        "SN_4, V0_4 = mc_bapm.path_dependent_expected_value_simultation(p_tilde, M[1], N)\n",
        "display(Math(r\"$ M = \" + str(M[1]) +  \",\" + \"S_N = \" + str(SN_4) + \",\" + \"V_0 = \" + str(V0_4) + r\"$\"))\n",
        "\n",
        "SN_64, V0_64 = mc_bapm.path_dependent_expected_value_simultation(p_tilde, M[2], N)\n",
        "display(Math(r\"$ M = \" + str(M[2]) +  \",\" + \"S_N = \" + str(SN_64) + \",\" + \"V_0 = \" + str(V0_64) + r\"$\"))\n",
        "\n",
        "SN_4096, V0_4096 = mc_bapm.path_dependent_expected_value_simultation(p_tilde, M[3], N)\n",
        "display(Math(r\"$ M = \" + str(M[3]) +  \",\" + \"S_N = \" + str(SN_4096) + \",\" + \"V_0 = \" + str(V0_4096) + r\"$\"))\n",
        "\n",
        "SN_32768, V0_32768 = mc_bapm.path_dependent_expected_value_simultation(p_tilde, M[4], N)\n",
        "display(Math(r\"$ M = \" + str(M[4]) +  \",\" + \"S_N = \" + str(SN_32768) + \",\" + \"V_0 = \" + str(V0_32768) + r\"$\"))\n",
        "\n",
        "SN_1048576, V0_1048576 = mc_bapm.path_dependent_expected_value_simultation(p_tilde, M[5], N)\n",
        "display(Math(r\"$ M = \" + str(M[5]) +  \",\" + \"S_N = \" + str(SN_1048576) + \",\" + \"V_0 = \" + str(V0_1048576) + r\"$\"))\n",
        "\n",
        "print(\"----------------------------------------------------------------\")\n",
        "\n",
        "print(\"\\nVerification Through the Multi-Step Replicating Portfolio Where N = 10:\")\n",
        "print(\"-------------------------------------------------------------------------\")\n",
        "V0, delta = mc_bapm.multi_step_replicating_portfolio(N)\n",
        "display(Math(r\"$ V_0 = \" + str(V0) + r\"$\" ))\n",
        "print(\"----------------------------------------------------------------\")\n",
        "print(\"The Monte Carlo estimates here for S0 and V0 are very accurate, as verified by the true V0 value obtained from the multi-step replicating portfolio process.\")\n",
        "print(\"More specifically, as M (Number of Monte Carlo Samples) increases, the calculated S0 and V0 values gets closer to the true S0 and V0 values.\")\n",
        "\n",
        "N = 100\n",
        "K = ((1 + r) ** N) * S0\n",
        "\n",
        "mc_bapm = MC_BAPM(r, d, u, S0, K)\n",
        "p_tilde = mc_bapm.get_risk_neutral_probability()\n",
        "\n",
        "print(\"\\nSample Monte Carlo Path Dependent Expected Value Computations Where N = 100:\")\n",
        "print(\"------------------------------------------------------------------------------\")\n",
        "\n",
        "display(Math(r\"$ S_0 = \" + str(S0) + \"$\"))\n",
        "\n",
        "p_tilde = mc_bapm.get_risk_neutral_probability()\n",
        "display(Math(r\"$ p̃ = \" + str(p_tilde) + \"$\"))\n",
        "\n",
        "SN_1, V0_1 = mc_bapm.path_dependent_expected_value_simultation(p_tilde, M[0], N)\n",
        "display(Math(r\"$ M = \" + str(M[0]) +  \",\" + \"S_N = \" + str(SN_1) + \",\" + \"V_0 = \" + str(V0_1) + r\"$\"))\n",
        "\n",
        "SN_4, V0_4 = mc_bapm.path_dependent_expected_value_simultation(p_tilde, M[1], N)\n",
        "display(Math(r\"$ M = \" + str(M[1]) +  \",\" + \"S_N = \" + str(SN_4) + \",\" + \"V_0 = \" + str(V0_4) + r\"$\"))\n",
        "\n",
        "SN_64, V0_64 = mc_bapm.path_dependent_expected_value_simultation(p_tilde, M[2], N)\n",
        "display(Math(r\"$ M = \" + str(M[2]) +  \",\" + \"S_N = \" + str(SN_64) + \",\" + \"V_0 = \" + str(V0_64) + r\"$\"))\n",
        "\n",
        "SN_4096, V0_4096 = mc_bapm.path_dependent_expected_value_simultation(p_tilde, M[3], N)\n",
        "display(Math(r\"$ M = \" + str(M[3]) +  \",\" + \"S_N = \" + str(SN_4096) + \",\" + \"V_0 = \" + str(V0_4096) + r\"$\"))\n",
        "\n",
        "SN_32768, V0_32768 = mc_bapm.path_dependent_expected_value_simultation(p_tilde, M[4], N)\n",
        "display(Math(r\"$ M = \" + str(M[4]) +  \",\" + \"S_N = \" + str(SN_32768) + \",\" + \"V_0 = \" + str(V0_32768) + r\"$\"))\n",
        "\n",
        "SN_1048576, V0_1048576 = mc_bapm.path_dependent_expected_value_simultation(p_tilde, M[5], N)\n",
        "display(Math(r\"$ M = \" + str(M[5]) +  \",\" + \"S_N = \" + str(SN_1048576) + \",\" + \"V_0 = \" + str(V0_1048576) + r\"$\"))\n",
        "\n",
        "print(\"------------------------------------------------------------------------\")"
      ],
      "metadata": {
        "colab": {
          "base_uri": "https://localhost:8080/",
          "height": 612
        },
        "id": "34SIX3MLO7OE",
        "outputId": "52227cd7-fff5-417e-89fa-6631071557e2"
      },
      "execution_count": 62,
      "outputs": [
        {
          "output_type": "stream",
          "name": "stdout",
          "text": [
            "Sample Monte Carlo Path Dependent Expected Value Computations Where N = 10:\n",
            "---------------------------------------------------------------------------\n"
          ]
        },
        {
          "output_type": "display_data",
          "data": {
            "text/plain": [
              "<IPython.core.display.Math object>"
            ],
            "text/latex": "$\\displaystyle  S_0 = 1$"
          },
          "metadata": {}
        },
        {
          "output_type": "display_data",
          "data": {
            "text/plain": [
              "<IPython.core.display.Math object>"
            ],
            "text/latex": "$\\displaystyle  p̃ = 0.18367346938773846$"
          },
          "metadata": {}
        },
        {
          "output_type": "display_data",
          "data": {
            "text/plain": [
              "<IPython.core.display.Math object>"
            ],
            "text/latex": "$\\displaystyle  M = 1,S_N = 1.0056836773562756,V_0 = 0.005683677356275638$"
          },
          "metadata": {}
        },
        {
          "output_type": "display_data",
          "data": {
            "text/plain": [
              "<IPython.core.display.Math object>"
            ],
            "text/latex": "$\\displaystyle  M = 4,S_N = 0.9995783883252207,V_0 = 0.002841838678137819$"
          },
          "metadata": {}
        },
        {
          "output_type": "display_data",
          "data": {
            "text/plain": [
              "<IPython.core.display.Math object>"
            ],
            "text/latex": "$\\displaystyle  M = 64,S_N = 0.9998822721178461,V_0 = 0.002306217577375282$"
          },
          "metadata": {}
        },
        {
          "output_type": "display_data",
          "data": {
            "text/plain": [
              "<IPython.core.display.Math object>"
            ],
            "text/latex": "$\\displaystyle  M = 4096,S_N = 1.0000982801361082,V_0 = 0.002404190106953894$"
          },
          "metadata": {}
        },
        {
          "output_type": "display_data",
          "data": {
            "text/plain": [
              "<IPython.core.display.Math object>"
            ],
            "text/latex": "$\\displaystyle  M = 32768,S_N = 0.9999786318124925,V_0 = 0.0023769570527588644$"
          },
          "metadata": {}
        },
        {
          "output_type": "display_data",
          "data": {
            "text/plain": [
              "<IPython.core.display.Math object>"
            ],
            "text/latex": "$\\displaystyle  M = 1048576,S_N = 1.0000024604955904,V_0 = 0.002390925893946184$"
          },
          "metadata": {}
        },
        {
          "output_type": "stream",
          "name": "stdout",
          "text": [
            "----------------------------------------------------------------\n",
            "\n",
            "Verification Through the Multi-Step Replicating Portfolio Where N = 10:\n",
            "-------------------------------------------------------------------------\n"
          ]
        },
        {
          "output_type": "display_data",
          "data": {
            "text/plain": [
              "<IPython.core.display.Math object>"
            ],
            "text/latex": "$\\displaystyle  V_0 = 0.002388784431362881$"
          },
          "metadata": {}
        },
        {
          "output_type": "stream",
          "name": "stdout",
          "text": [
            "----------------------------------------------------------------\n",
            "The Monte Carlo estimates here for S0 and V0 are very accurate, as verified by the true V0 value obtained from the multi-step replicating portfolio process.\n",
            "More specifically, as M (Number of Monte Carlo Samples) increases, the calculated S0 and V0 values gets closer to the true S0 and V0 values.\n",
            "\n",
            "Sample Monte Carlo Path Dependent Expected Value Computations Where N = 100:\n",
            "------------------------------------------------------------------------------\n"
          ]
        },
        {
          "output_type": "display_data",
          "data": {
            "text/plain": [
              "<IPython.core.display.Math object>"
            ],
            "text/latex": "$\\displaystyle  S_0 = 1$"
          },
          "metadata": {}
        },
        {
          "output_type": "display_data",
          "data": {
            "text/plain": [
              "<IPython.core.display.Math object>"
            ],
            "text/latex": "$\\displaystyle  p̃ = 0.18367346938773846$"
          },
          "metadata": {}
        },
        {
          "output_type": "display_data",
          "data": {
            "text/plain": [
              "<IPython.core.display.Math object>"
            ],
            "text/latex": "$\\displaystyle  M = 1,S_N = 0.9931612488283614,V_0 = 0.0$"
          },
          "metadata": {}
        },
        {
          "output_type": "display_data",
          "data": {
            "text/plain": [
              "<IPython.core.display.Math object>"
            ],
            "text/latex": "$\\displaystyle  M = 4,S_N = 0.9969362131968762,V_0 = 0.005679307556997749$"
          },
          "metadata": {}
        },
        {
          "output_type": "display_data",
          "data": {
            "text/plain": [
              "<IPython.core.display.Math object>"
            ],
            "text/latex": "$\\displaystyle  M = 64,S_N = 1.0033845271228885,V_0 = 0.008817013971893512$"
          },
          "metadata": {}
        },
        {
          "output_type": "display_data",
          "data": {
            "text/plain": [
              "<IPython.core.display.Math object>"
            ],
            "text/latex": "$\\displaystyle  M = 4096,S_N = 0.9996934428193038,V_0 = 0.0074504948429587586$"
          },
          "metadata": {}
        },
        {
          "output_type": "display_data",
          "data": {
            "text/plain": [
              "<IPython.core.display.Math object>"
            ],
            "text/latex": "$\\displaystyle  M = 32768,S_N = 0.9998871419656695,V_0 = 0.007533224676117565$"
          },
          "metadata": {}
        },
        {
          "output_type": "display_data",
          "data": {
            "text/plain": [
              "<IPython.core.display.Math object>"
            ],
            "text/latex": "$\\displaystyle  M = 1048576,S_N = 1.0000280567112478,V_0 = 0.007595254391611448$"
          },
          "metadata": {}
        },
        {
          "output_type": "stream",
          "name": "stdout",
          "text": [
            "------------------------------------------------------------------------\n"
          ]
        }
      ]
    },
    {
      "cell_type": "code",
      "source": [
        "#2c.) \n",
        "S0 = 1\n",
        "r = 10 ** -3\n",
        "u = 1 + 5 * (10 ** -3)\n",
        "d = 1 + (10 ** -4)\n",
        "N = 100\n",
        "K = ((1 + r) ** N) * S0\n",
        "M = [4, 16, 256, 65536, 1048576]\n",
        "\n",
        "mc_bapm = MC_BAPM(r, d, u, S0, K)\n",
        "\n",
        "p_tilde = mc_bapm.get_risk_neutral_probability()\n",
        "p = 0.9 * p_tilde\n",
        "\n",
        "num_paths = 5\n",
        "path_length = 10\n",
        "random_paths = np.random.choice([0, 1], size = (num_paths, path_length), p = [(1 - p), p])\n",
        "\n",
        "print(\"1.) Monte Carlo Method for Multiple Paths and Multiple M (Number of Samples) Values Simulation Results Where N = 100:\")\n",
        "print(\"---------------------------------------------------------------------------------------------------------------------\")\n",
        "\n",
        "error_list = []\n",
        "for i in range (len(random_paths)):\n",
        "  path_price = mc_bapm.get_stock_price(np.sum(random_paths[i]), len(random_paths[i]) - np.sum(random_paths[i]))\n",
        "  for M_value in M:\n",
        "    SN, V0 = mc_bapm.path_dependent_expected_value_simultation(p, M_value, N, S0, random_paths[i])\n",
        "    error = path_price - SN\n",
        "    error_list.append(error)\n",
        "    print(\"Path # = \" + str(i + 1) + \", \" + \"M = \" + str(M_value) + \", \" + \"True S10 = \" + str(path_price) + \", \" + \"Sn = \" + str(SN) + \", \" + \"V10 = \" + str(V0) + \", \" + \"S10 - Sn = \" + str(error))\n",
        "\n",
        "print(\"\\nAverage Difference (S0 - Sn) = \" + str(np.mean(error_list)))\n",
        "print(\"---------------------------------------------------------------------------------------------------------\")\n",
        "print(\"The Monte Carlo estimates for SN is very accurate as the average difference between the estimated SN and true S0 values is shown to be relatively small.\")\n",
        "\n",
        "mc_bapm = MC_BAPM(r, d, u, S0, K)\n",
        "\n",
        "p_tilde = mc_bapm.get_risk_neutral_probability()\n",
        "p = 0.9 * p_tilde\n",
        "\n",
        "print(\"\\n2.) Monte Carlo Method for Fixed Path and Fixed M (Number of Samples) Values Simulation Results Where N = 100:\")\n",
        "print(\"----------------------------------------------------------------------------------------------------------------\")\n",
        "\n",
        "fixed_path = random_paths[0]\n",
        "path_price = mc_bapm.get_stock_price(np.sum(fixed_path), len(fixed_path) - np.sum(fixed_path))\n",
        "fixed_M = M[4]\n",
        "num_iterations = 50\n",
        "\n",
        "SN_list = []\n",
        "error_list = []\n",
        "for j in range(num_iterations):\n",
        "  SN, V0 = mc_bapm.path_dependent_expected_value_simultation(p, fixed_M, N, S0, fixed_path)\n",
        "  error = path_price - SN\n",
        "  error_list.append(error)\n",
        "  print(\"Iteration # = \" + str(j + 1) + \", \" + \"M = \" + str(fixed_M) + \", \" + \"True S10 = \" + str(path_price) + \", \" + \"Sn = \" + str(SN) + \", \" + \"V10 = \" + str(V0) + \", \" + \"S10 - Sn = \" + str(error))\n",
        "  SN_list.append(np.mean(SN))\n",
        "\n",
        "print(\"\\nMean of the Sn values = \" + str(np.mean(SN_list)) + \", \" + \"Variance of the Sn Values = \" + str(np.var(SN_list, ddof = 1)) + \", \" + \"Average Difference (S10 - Sn) = \" + str(np.mean(error_list)))\n",
        "print(\"----------------------------------------------------------------------------------------------------\")\n",
        "\n",
        "print(\"The Monte Carlo estimates for SN here are shown to be consistently accurate since the mean of all the estimated SN values is very close to the true S10 value.\")\n",
        "print(\"In addition, the variance of the estimated SN values is also very low, which also shows that the results are consistently close in value to each other.\")"
      ],
      "metadata": {
        "colab": {
          "base_uri": "https://localhost:8080/"
        },
        "id": "GVDaOYg5uAoA",
        "outputId": "3c671ae3-44b7-4a95-e975-3966484cd7b0"
      },
      "execution_count": 63,
      "outputs": [
        {
          "output_type": "stream",
          "name": "stdout",
          "text": [
            "1.) Monte Carlo Method for Multiple Paths and Multiple M (Number of Samples) Values Simulation Results Where N = 100:\n",
            "---------------------------------------------------------------------------------------------------------------------\n",
            "Path # = 1, M = 4, True S10 = 1.0059048618844324, Sn = 0.9990793670714905, V10 = 0.00441959191902053, S10 - Sn = 0.0068254948129419235\n",
            "Path # = 1, M = 16, True S10 = 1.0059048618844324, Sn = 0.9951698459036299, V10 = 0.004146978267292171, S10 - Sn = 0.01073501598080251\n",
            "Path # = 1, M = 256, True S10 = 1.0059048618844324, Sn = 0.9965792003744915, V10 = 0.005629158445265001, S10 - Sn = 0.009325661509940852\n",
            "Path # = 1, M = 65536, True S10 = 1.0059048618844324, Sn = 0.9969899028651942, V10 = 0.005845954974259052, S10 - Sn = 0.008914959019238222\n",
            "Path # = 1, M = 1048576, True S10 = 1.0059048618844324, Sn = 0.9968802520785419, V10 = 0.005827858444867362, S10 - Sn = 0.009024609805890482\n",
            "Path # = 2, M = 4, True S10 = 1.001000450120021, Sn = 0.9894670582169596, V10 = 0.00318991231682986, S10 - Sn = 0.011533391903061352\n",
            "Path # = 2, M = 16, True S10 = 1.001000450120021, Sn = 0.9908859164338537, V10 = 0.0009801163573195952, S10 - Sn = 0.010114533686167215\n",
            "Path # = 2, M = 256, True S10 = 1.001000450120021, Sn = 0.9919618343210622, V10 = 0.0038879379501241588, S10 - Sn = 0.009038615798958705\n",
            "Path # = 2, M = 65536, True S10 = 1.001000450120021, Sn = 0.9921180217080047, V10 = 0.004055773890486764, S10 - Sn = 0.008882428412016252\n",
            "Path # = 2, M = 1048576, True S10 = 1.001000450120021, Sn = 0.992012713500719, V10 = 0.004008870938140371, S10 - Sn = 0.008987736619301967\n",
            "Path # = 3, M = 4, True S10 = 1.0207627439683542, Sn = 0.9967807565823288, V10 = 0.006915218308249669, S10 - Sn = 0.023981987386025416\n",
            "Path # = 3, M = 16, True S10 = 1.0207627439683542, Sn = 1.0145946161841757, V10 = 0.01816620774467855, S10 - Sn = 0.006168127784178523\n",
            "Path # = 3, M = 256, True S10 = 1.0207627439683542, Sn = 1.0114284280339032, V10 = 0.014168493812307259, S10 - Sn = 0.009334315934450998\n",
            "Path # = 3, M = 65536, True S10 = 1.0207627439683542, Sn = 1.0116278878005993, V10 = 0.014419491388775909, S10 - Sn = 0.00913485616775489\n",
            "Path # = 3, M = 1048576, True S10 = 1.0207627439683542, Sn = 1.01164560349437, V10 = 0.014427643208480424, S10 - Sn = 0.009117140473984264\n",
            "Path # = 4, M = 4, True S10 = 1.0059048618844324, Sn = 0.991737203711946, V10 = 0.0, S10 - Sn = 0.014167658172486441\n",
            "Path # = 4, M = 16, True S10 = 1.0059048618844324, Sn = 0.9958347622355397, V10 = 0.005433015879436663, S10 - Sn = 0.010070099648892716\n",
            "Path # = 4, M = 256, True S10 = 1.0059048618844324, Sn = 0.9942653922578042, V10 = 0.004509921276377878, S10 - Sn = 0.011639469626628207\n",
            "Path # = 4, M = 65536, True S10 = 1.0059048618844324, Sn = 0.9968908739416593, V10 = 0.005807048088061539, S10 - Sn = 0.009013987942773083\n",
            "Path # = 4, M = 1048576, True S10 = 1.0059048618844324, Sn = 0.9968750215638822, V10 = 0.005816487253207603, S10 - Sn = 0.009029840320550209\n",
            "Path # = 5, M = 4, True S10 = 1.010833302863568, Sn = 1.0088693081198028, V10 = 0.009112875911887055, S10 - Sn = 0.001963994743765296\n",
            "Path # = 5, M = 16, True S10 = 1.010833302863568, Sn = 1.0032120312070978, V10 = 0.010058126938388265, S10 - Sn = 0.007621271656470308\n",
            "Path # = 5, M = 256, True S10 = 1.010833302863568, Sn = 1.0022349579046101, V10 = 0.008274280352280287, S10 - Sn = 0.008598344958957949\n",
            "Path # = 5, M = 65536, True S10 = 1.010833302863568, Sn = 1.0018451995309556, V10 = 0.008197485227750698, S10 - Sn = 0.008988103332612463\n",
            "Path # = 5, M = 1048576, True S10 = 1.010833302863568, Sn = 1.0017827739219267, V10 = 0.00817018980757369, S10 - Sn = 0.009050528941641378\n",
            "\n",
            "Average Difference (S0 - Sn) = 0.009650486985579665\n",
            "---------------------------------------------------------------------------------------------------------\n",
            "The Monte Carlo estimates for SN is very accurate as the average difference between the estimated SN and true S0 values is shown to be relatively small.\n",
            "\n",
            "2.) Monte Carlo Method for Fixed Path and Fixed M (Number of Samples) Values Simulation Results Where N = 100:\n",
            "----------------------------------------------------------------------------------------------------------------\n",
            "Iteration # = 1, M = 1048576, True S10 = 1.0059048618844324, Sn = 0.9969012462401634, V10 = 0.005838056295339499, S10 - Sn = 0.009003615644268992\n",
            "Iteration # = 2, M = 1048576, True S10 = 1.0059048618844324, Sn = 0.9969334071971275, V10 = 0.0058406217775060785, S10 - Sn = 0.00897145468730487\n",
            "Iteration # = 3, M = 1048576, True S10 = 1.0059048618844324, Sn = 0.9968884807844182, V10 = 0.005815453180192923, S10 - Sn = 0.009016381100014237\n",
            "Iteration # = 4, M = 1048576, True S10 = 1.0059048618844324, Sn = 0.9969011381560859, V10 = 0.0058334120207623, S10 - Sn = 0.009003723728346458\n",
            "Iteration # = 5, M = 1048576, True S10 = 1.0059048618844324, Sn = 0.9969014446217092, V10 = 0.005840671333798501, S10 - Sn = 0.009003417262723246\n",
            "Iteration # = 6, M = 1048576, True S10 = 1.0059048618844324, Sn = 0.9969024265794239, V10 = 0.0058366854753942495, S10 - Sn = 0.00900243530500855\n",
            "Iteration # = 7, M = 1048576, True S10 = 1.0059048618844324, Sn = 0.9969036945891125, V10 = 0.005839964605168552, S10 - Sn = 0.009001167295319856\n",
            "Iteration # = 8, M = 1048576, True S10 = 1.0059048618844324, Sn = 0.9969038857135727, V10 = 0.005836700626258049, S10 - Sn = 0.00900097617085971\n",
            "Iteration # = 9, M = 1048576, True S10 = 1.0059048618844324, Sn = 0.9968917395408291, V10 = 0.005816841034076521, S10 - Sn = 0.009013122343603297\n",
            "Iteration # = 10, M = 1048576, True S10 = 1.0059048618844324, Sn = 0.996908248862944, V10 = 0.00583951147602625, S10 - Sn = 0.008996613021488353\n",
            "Iteration # = 11, M = 1048576, True S10 = 1.0059048618844324, Sn = 0.9968972374402365, V10 = 0.0058315653641088285, S10 - Sn = 0.009007624444195894\n",
            "Iteration # = 12, M = 1048576, True S10 = 1.0059048618844324, Sn = 0.9968866094234733, V10 = 0.0058317362992418905, S10 - Sn = 0.009018252460959109\n",
            "Iteration # = 13, M = 1048576, True S10 = 1.0059048618844324, Sn = 0.9969043276107672, V10 = 0.005829291840795716, S10 - Sn = 0.009000534273665206\n",
            "Iteration # = 14, M = 1048576, True S10 = 1.0059048618844324, Sn = 0.9969018539435216, V10 = 0.005835469279233788, S10 - Sn = 0.009003007940910801\n",
            "Iteration # = 15, M = 1048576, True S10 = 1.0059048618844324, Sn = 0.9968905817568088, V10 = 0.0058290596842689585, S10 - Sn = 0.00901428012762362\n",
            "Iteration # = 16, M = 1048576, True S10 = 1.0059048618844324, Sn = 0.99688903790433, V10 = 0.005831065795112225, S10 - Sn = 0.009015823980102367\n",
            "Iteration # = 17, M = 1048576, True S10 = 1.0059048618844324, Sn = 0.9968996831713015, V10 = 0.0058312536838047565, S10 - Sn = 0.00900517871313089\n",
            "Iteration # = 18, M = 1048576, True S10 = 1.0059048618844324, Sn = 0.996900411602749, V10 = 0.0058487136817704025, S10 - Sn = 0.009004450281683396\n",
            "Iteration # = 19, M = 1048576, True S10 = 1.0059048618844324, Sn = 0.9968919076782057, V10 = 0.00583033465502992, S10 - Sn = 0.00901295420622672\n",
            "Iteration # = 20, M = 1048576, True S10 = 1.0059048618844324, Sn = 0.9969055203876852, V10 = 0.005834049992860889, S10 - Sn = 0.008999341496747193\n",
            "Iteration # = 21, M = 1048576, True S10 = 1.0059048618844324, Sn = 0.9969070649407695, V10 = 0.005830094996731771, S10 - Sn = 0.008997796943662872\n",
            "Iteration # = 22, M = 1048576, True S10 = 1.0059048618844324, Sn = 0.9968943024475473, V10 = 0.00583011978834858, S10 - Sn = 0.009010559436885113\n",
            "Iteration # = 23, M = 1048576, True S10 = 1.0059048618844324, Sn = 0.9968863865008298, V10 = 0.005827520908349267, S10 - Sn = 0.009018475383602564\n",
            "Iteration # = 24, M = 1048576, True S10 = 1.0059048618844324, Sn = 0.996901770425842, V10 = 0.0058290099097239615, S10 - Sn = 0.009003091458590351\n",
            "Iteration # = 25, M = 1048576, True S10 = 1.0059048618844324, Sn = 0.9969254149645815, V10 = 0.005843129934081864, S10 - Sn = 0.008979446919850864\n",
            "Iteration # = 26, M = 1048576, True S10 = 1.0059048618844324, Sn = 0.996909619534063, V10 = 0.00583881185544524, S10 - Sn = 0.008995242350369415\n",
            "Iteration # = 27, M = 1048576, True S10 = 1.0059048618844324, Sn = 0.9969029988283743, V10 = 0.005839789956988861, S10 - Sn = 0.009001863056058101\n",
            "Iteration # = 28, M = 1048576, True S10 = 1.0059048618844324, Sn = 0.9969068635289086, V10 = 0.005831518251618418, S10 - Sn = 0.00899799835552384\n",
            "Iteration # = 29, M = 1048576, True S10 = 1.0059048618844324, Sn = 0.9968968597246205, V10 = 0.005825379461387645, S10 - Sn = 0.009008002159811901\n",
            "Iteration # = 30, M = 1048576, True S10 = 1.0059048618844324, Sn = 0.9969022100316886, V10 = 0.005827202938164473, S10 - Sn = 0.009002651852743848\n",
            "Iteration # = 31, M = 1048576, True S10 = 1.0059048618844324, Sn = 0.9969120711023771, V10 = 0.005832288924607168, S10 - Sn = 0.008992790782055282\n",
            "Iteration # = 32, M = 1048576, True S10 = 1.0059048618844324, Sn = 0.9969233444933959, V10 = 0.005845678921654053, S10 - Sn = 0.008981517391036475\n",
            "Iteration # = 33, M = 1048576, True S10 = 1.0059048618844324, Sn = 0.9969043983967212, V10 = 0.005826954136682488, S10 - Sn = 0.009000463487711219\n",
            "Iteration # = 34, M = 1048576, True S10 = 1.0059048618844324, Sn = 0.9969055012362277, V10 = 0.00583285399488807, S10 - Sn = 0.008999360648204724\n",
            "Iteration # = 35, M = 1048576, True S10 = 1.0059048618844324, Sn = 0.996897358823237, V10 = 0.005819963924704561, S10 - Sn = 0.009007503061195354\n",
            "Iteration # = 36, M = 1048576, True S10 = 1.0059048618844324, Sn = 0.9968983550779412, V10 = 0.005825779108270986, S10 - Sn = 0.009006506806491177\n",
            "Iteration # = 37, M = 1048576, True S10 = 1.0059048618844324, Sn = 0.9968934344093648, V10 = 0.005831718271630774, S10 - Sn = 0.009011427475067557\n",
            "Iteration # = 38, M = 1048576, True S10 = 1.0059048618844324, Sn = 0.9968916770287108, V10 = 0.005830441494272423, S10 - Sn = 0.009013184855721557\n",
            "Iteration # = 39, M = 1048576, True S10 = 1.0059048618844324, Sn = 0.9968743334104863, V10 = 0.005825043759532051, S10 - Sn = 0.009030528473946142\n",
            "Iteration # = 40, M = 1048576, True S10 = 1.0059048618844324, Sn = 0.996924561564083, V10 = 0.005843723136379785, S10 - Sn = 0.008980300320349355\n",
            "Iteration # = 41, M = 1048576, True S10 = 1.0059048618844324, Sn = 0.9968596326381365, V10 = 0.005811634051572448, S10 - Sn = 0.009045229246295916\n",
            "Iteration # = 42, M = 1048576, True S10 = 1.0059048618844324, Sn = 0.9968967733354732, V10 = 0.005824297094027574, S10 - Sn = 0.009008088548959181\n",
            "Iteration # = 43, M = 1048576, True S10 = 1.0059048618844324, Sn = 0.9969150605414648, V10 = 0.005837298792954726, S10 - Sn = 0.008989801342967563\n",
            "Iteration # = 44, M = 1048576, True S10 = 1.0059048618844324, Sn = 0.9969286628223074, V10 = 0.005846073664887218, S10 - Sn = 0.00897619906212499\n",
            "Iteration # = 45, M = 1048576, True S10 = 1.0059048618844324, Sn = 0.9969322513480318, V10 = 0.0058425206675395604, S10 - Sn = 0.008972610536400638\n",
            "Iteration # = 46, M = 1048576, True S10 = 1.0059048618844324, Sn = 0.9969009524403674, V10 = 0.005821746562570094, S10 - Sn = 0.009003909444065039\n",
            "Iteration # = 47, M = 1048576, True S10 = 1.0059048618844324, Sn = 0.9969078900894833, V10 = 0.005831377886097533, S10 - Sn = 0.008996971794949071\n",
            "Iteration # = 48, M = 1048576, True S10 = 1.0059048618844324, Sn = 0.9969155157118257, V10 = 0.005837306460345039, S10 - Sn = 0.008989346172606716\n",
            "Iteration # = 49, M = 1048576, True S10 = 1.0059048618844324, Sn = 0.9968963672879964, V10 = 0.0058213639247642855, S10 - Sn = 0.009008494596436045\n",
            "Iteration # = 50, M = 1048576, True S10 = 1.0059048618844324, Sn = 0.9968836432627682, V10 = 0.005828749092315814, S10 - Sn = 0.009021218621664162\n",
            "\n",
            "Mean of the Sn values = 0.9969019631830417, Variance of the Sn Values = 1.8905542720848784e-10, Average Difference (S10 - Sn) = 0.009002898701390595\n",
            "----------------------------------------------------------------------------------------------------\n",
            "The Monte Carlo estimates for SN here are shown to be consistently accurate since the mean of all the estimated SN values is very close to the true S10 value.\n",
            "In addition, the variance of the estimated SN values is also very low, which also shows that the results are consistently close in value to each other.\n"
          ]
        }
      ]
    },
    {
      "cell_type": "code",
      "source": [
        "#2d Part 1: Repeat 2b.)\n",
        "S0 = 1\n",
        "r = 10 ** -3\n",
        "u = 1 + (5 * (10 ** -3))\n",
        "d = 1 + (10 ** -4)\n",
        "N = 100\n",
        "K = ((1 + r) ** N) * S0\n",
        "M = [1, 4, 64, 4096, 32768, 1048576]\n",
        "\n",
        "mc_bapm = MC_BAPM(r, d, u, S0, K)\n",
        "p_tilde = mc_bapm.get_risk_neutral_probability()\n",
        "\n",
        "print(\"Sample Monte Carlo Path Dependent Expected Value Computations Using the Lookback Option Where N = 100:\")\n",
        "print(\"------------------------------------------------------------------------------------------------------\")\n",
        "\n",
        "display(Math(r\"$ S_0 = \" + str(S0) + \"$\"))\n",
        "\n",
        "p_tilde = mc_bapm.get_risk_neutral_probability()\n",
        "display(Math(r\"$ p̃ = \" + str(p_tilde) + \"$\"))\n",
        "\n",
        "SN_1, V0_1 = mc_bapm.path_dependent_expected_value_simultation(p_tilde, M[0], N, lookback_option = True)\n",
        "display(Math(r\"$ M = \" + str(M[0]) +  \",\" + \"S_N = \" + str(SN_1) + \",\" + \"V_0 = \" + str(V0_1) + r\"$\"))\n",
        "\n",
        "SN_4, V0_4 = mc_bapm.path_dependent_expected_value_simultation(p_tilde, M[1], N, lookback_option = True)\n",
        "display(Math(r\"$ M = \" + str(M[1]) +  \",\" + \"S_N = \" + str(SN_4) + \",\" + \"V_0 = \" + str(V0_4) + r\"$\"))\n",
        "\n",
        "SN_64, V0_64 = mc_bapm.path_dependent_expected_value_simultation(p_tilde, M[2], N, lookback_option = True)\n",
        "display(Math(r\"$ M = \" + str(M[2]) +  \",\" + \"S_N = \" + str(SN_64) + \",\" + \"V_0 = \" + str(V0_64) + r\"$\"))\n",
        "\n",
        "SN_4096, V0_4096 = mc_bapm.path_dependent_expected_value_simultation(p_tilde, M[3], N, lookback_option = True)\n",
        "display(Math(r\"$ M = \" + str(M[3]) +  \",\" + \"S_N = \" + str(SN_4096) + \",\" + \"V_0 = \" + str(V0_4096) + r\"$\"))\n",
        "\n",
        "SN_32768, V0_32768 = mc_bapm.path_dependent_expected_value_simultation(p_tilde, M[4], N, lookback_option = True)\n",
        "display(Math(r\"$ M = \" + str(M[4]) +  \",\" + \"S_N = \" + str(SN_32768) + \",\" + \"V_0 = \" + str(V0_32768) + r\"$\"))\n",
        "\n",
        "SN_1048576, V0_1048576 = mc_bapm.path_dependent_expected_value_simultation(p_tilde, M[5], N, lookback_option = True)\n",
        "display(Math(r\"$ M = \" + str(M[5]) +  \",\" + \"S_N = \" + str(SN_1048576) + \",\" + \"V_0 = \" + str(V0_1048576) + r\"$\"))\n",
        "\n",
        "print(\"------------------------------------------------------------------------\")\n",
        "print(\"The lookback option is shown to be effective since the estimated SN values get closer to the true S0 value as M gets larger.\")"
      ],
      "metadata": {
        "id": "e8tQgkmmNbjQ",
        "colab": {
          "base_uri": "https://localhost:8080/",
          "height": 260
        },
        "outputId": "f7d939cd-c1d7-4265-ee5f-0f0926581373"
      },
      "execution_count": 64,
      "outputs": [
        {
          "output_type": "stream",
          "name": "stdout",
          "text": [
            "Sample Monte Carlo Path Dependent Expected Value Computations Using the Lookback Option Where N = 100:\n",
            "------------------------------------------------------------------------------------------------------\n"
          ]
        },
        {
          "output_type": "display_data",
          "data": {
            "text/plain": [
              "<IPython.core.display.Math object>"
            ],
            "text/latex": "$\\displaystyle  S_0 = 1$"
          },
          "metadata": {}
        },
        {
          "output_type": "display_data",
          "data": {
            "text/plain": [
              "<IPython.core.display.Math object>"
            ],
            "text/latex": "$\\displaystyle  p̃ = 0.18367346938773846$"
          },
          "metadata": {}
        },
        {
          "output_type": "display_data",
          "data": {
            "text/plain": [
              "<IPython.core.display.Math object>"
            ],
            "text/latex": "$\\displaystyle  M = 1,S_N = 1.0177308477124518,V_0 = 0.0$"
          },
          "metadata": {}
        },
        {
          "output_type": "display_data",
          "data": {
            "text/plain": [
              "<IPython.core.display.Math object>"
            ],
            "text/latex": "$\\displaystyle  M = 4,S_N = 1.0066204757679758,V_0 = 0.010865504357450335$"
          },
          "metadata": {}
        },
        {
          "output_type": "display_data",
          "data": {
            "text/plain": [
              "<IPython.core.display.Math object>"
            ],
            "text/latex": "$\\displaystyle  M = 64,S_N = 1.0027217815432872,V_0 = 0.08427463804986961$"
          },
          "metadata": {}
        },
        {
          "output_type": "display_data",
          "data": {
            "text/plain": [
              "<IPython.core.display.Math object>"
            ],
            "text/latex": "$\\displaystyle  M = 4096,S_N = 0.9997261557695214,V_0 = 0.0606276337240362$"
          },
          "metadata": {}
        },
        {
          "output_type": "display_data",
          "data": {
            "text/plain": [
              "<IPython.core.display.Math object>"
            ],
            "text/latex": "$\\displaystyle  M = 32768,S_N = 1.0001059971207906,V_0 = 0.07482503326015458$"
          },
          "metadata": {}
        },
        {
          "output_type": "display_data",
          "data": {
            "text/plain": [
              "<IPython.core.display.Math object>"
            ],
            "text/latex": "$\\displaystyle  M = 1048576,S_N = 0.9999869467965412,V_0 = 0.03744463576463041$"
          },
          "metadata": {}
        },
        {
          "output_type": "stream",
          "name": "stdout",
          "text": [
            "------------------------------------------------------------------------\n",
            "The lookback option is shown to be effective since the estimated SN values get closer to the true S0 value as M gets larger.\n"
          ]
        }
      ]
    },
    {
      "cell_type": "code",
      "source": [
        "#2d Part 2: Repeat 2c.)\n",
        "S0 = 1\n",
        "r = 10 ** -3\n",
        "u = 1 + (5 * (10 ** -3))\n",
        "d = 1 + (10 ** -4)\n",
        "N = 100\n",
        "K = ((1 + r) ** N) * S0\n",
        "M = [4, 16, 256, 65536, 1048576]\n",
        "\n",
        "mc_bapm = MC_BAPM(r, d, u, S0, K)\n",
        "\n",
        "p_tilde = mc_bapm.get_risk_neutral_probability()\n",
        "p = 0.9 * p_tilde\n",
        "\n",
        "num_paths = 5\n",
        "path_length = 10\n",
        "random_paths = np.random.choice([0, 1], size = (num_paths, path_length), p = [(1 - p), p])\n",
        "\n",
        "print(\"1.) Monte Carlo Method Using the Lookback Option for Multiple Paths and Multiple M (Number of Samples) Values Simulation Results Where N = 100:\")\n",
        "print(\"-----------------------------------------------------------------------------------------------------------------------------------------------\")\n",
        "\n",
        "error_list = []\n",
        "for i in range (len(random_paths)):  \n",
        "  path_price = mc_bapm.get_stock_price(np.sum(random_paths[i]), len(random_paths[i]) - np.sum(random_paths[i]))\n",
        "  stock_price = S0\n",
        "  for n in range(path_length):\n",
        "    if random_paths[i][n] == 1:\n",
        "      stock_price = stock_price * (u)\n",
        "    else:\n",
        "      stock_price = stock_price * (d)\n",
        "    max_value = np.maximum(0, stock_price * ((1 + r) ** (path_length - (n + 1))))\n",
        "\n",
        "  for M_value in M:\n",
        "    SN, V0 = mc_bapm.path_dependent_expected_value_simultation(p, M_value, N, S0, random_paths[i], lookback_option = True)\n",
        "    error = path_price - SN\n",
        "    error_list.append(error)\n",
        "    print(\"Path # = \" + str(i + 1) + \", \" + \"M = \" + str(M_value) + \", \" + \"True S10 = \" + str(path_price) + \", \" + \"True M10 = \" + str(max_value) + \", \" + \"Sn = \" + str(SN) + \", \" + \"V10 = \" + str(V0) + \", \" + \"S10 - Sn = \" + str(error) + \", \")\n",
        "\n",
        "print(\"\\nAverage Difference (S0 - Sn) = \" + str(np.mean(error_list)))\n",
        "print(\"---------------------------------------------------------------------------------------------------------------------------------------------\")\n",
        "print(\"The Monte Carlo estimates from using the Lookback Option for SN is very accurate as the average difference between the estimated SN and true S0 values is shown to be relatively small.\")\n",
        "\n",
        "mc_bapm = MC_BAPM(r, d, u, S0, K)\n",
        "\n",
        "p_tilde = mc_bapm.get_risk_neutral_probability()\n",
        "p = 0.9 * p_tilde\n",
        "\n",
        "print(\"\\n2.) Monte Carlo Method from using the Lookback Option for Fixed Path and Fixed M (Number of Samples) Values Simulation Results Where N = 100:\")\n",
        "print(\"-----------------------------------------------------------------------------------------------------------------------------------------------\")\n",
        "\n",
        "fixed_path = random_paths[0]\n",
        "path_price = mc_bapm.get_stock_price(sum(fixed_path), len(fixed_path) - sum(fixed_path))\n",
        "fixed_M = M[4]\n",
        "num_iterations = 50\n",
        "\n",
        "stock_price = S0\n",
        "for n in range(path_length):\n",
        "  if fixed_path[n] == 1:\n",
        "    stock_price = stock_price * (u)\n",
        "  else:\n",
        "    stock_price = stock_price * (d)\n",
        "  max_value = np.maximum(0, stock_price * ((1 + r) ** (path_length - (n + 1))))\n",
        "\n",
        "SN_list = []\n",
        "error_list = []\n",
        "for j in range(num_iterations):\n",
        "  SN, V0 = mc_bapm.path_dependent_expected_value_simultation(p, fixed_M, N, S0, fixed_path, lookback_option = True)\n",
        "  error = path_price - SN\n",
        "  error_list.append(error)\n",
        "  print(\"Iteration # = \" + str(j + 1) + \", \" + \"M = \" + str(fixed_M) + \", \" + \"True S10 = \" + str(path_price) + \", \" + \"True M10 = \" + str(max_value) + \", \" + \"Sn = \" + str(SN) + \", \" + \"V10 = \" + str(V0) + \", \" + \"S10 - Sn = \" + str(error))\n",
        "  SN_list.append(np.mean(SN))\n",
        "\n",
        "print(\"\\nMean of the Sn values = \" + str(np.mean(SN_list)) + \", \" + \"Variance of the Sn Values = \" + str(np.var(SN_list, ddof = 1)) + \", \" + \"Average Difference (S0 - Sn) = \" + str(np.mean(error_list)))\n",
        "print(\"----------------------------------------------------------------------------------------------------\")\n",
        "\n",
        "print(\"The Monte Carlo estimates for SN from using the lookback option here are shown to be consistently accurate since the mean of all the estimated SN values is very close to the true S0 value.\")\n",
        "print(\"In addition, the variance of the estimated SN values is also very low, which also shows that the results are consistently close in value to each other.\")\n",
        "print(\"The lookback option satisfies the martingale property, so therefore, the value of the option depends on the minimum price of the underlying asset over a specified period, which is a decreasing function of time.\")\n",
        "print(\"Therefore, as shown through the results where the True S10 value is extremely close to the True M10 value, the expected value of the option at the time of maturity is equal to its current value.\")"
      ],
      "metadata": {
        "colab": {
          "base_uri": "https://localhost:8080/"
        },
        "id": "bDi9fLvbrYJ3",
        "outputId": "c116c456-b8e0-4708-b05d-dedc9760e7e2"
      },
      "execution_count": 65,
      "outputs": [
        {
          "output_type": "stream",
          "name": "stdout",
          "text": [
            "1.) Monte Carlo Method Using the Lookback Option for Multiple Paths and Multiple M (Number of Samples) Values Simulation Results Where N = 100:\n",
            "-----------------------------------------------------------------------------------------------------------------------------------------------\n",
            "Path # = 1, M = 4, True S10 = 1.010833302863568, True M10 = 1.010833302863568, Sn = 0.9991934918871083, V10 = 0.05406783160279852, S10 - Sn = 0.01163981097645983, \n",
            "Path # = 1, M = 16, True S10 = 1.010833302863568, True M10 = 1.010833302863568, Sn = 1.007178110195915, V10 = 0.04375536352468498, S10 - Sn = 0.0036551926676531288, \n",
            "Path # = 1, M = 256, True S10 = 1.010833302863568, True M10 = 1.010833302863568, Sn = 1.0038791040185198, V10 = 0.11220271101727892, S10 - Sn = 0.006954198845048332, \n",
            "Path # = 1, M = 65536, True S10 = 1.010833302863568, True M10 = 1.010833302863568, Sn = 1.0017767822069612, V10 = 0.02356755707497726, S10 - Sn = 0.009056520656606892, \n",
            "Path # = 1, M = 1048576, True S10 = 1.010833302863568, True M10 = 1.010833302863568, Sn = 1.001776166003936, V10 = 0.09225181114772528, S10 - Sn = 0.009057136859632164, \n",
            "Path # = 2, M = 4, True S10 = 1.0059048618844324, True M10 = 1.0059048618844322, Sn = 1.0068826236754334, V10 = 0.08618621480784983, S10 - Sn = -0.0009777617910009528, \n",
            "Path # = 2, M = 16, True S10 = 1.0059048618844324, True M10 = 1.0059048618844322, Sn = 0.9943447208068682, V10 = 0.03263016353022667, S10 - Sn = 0.011560141077564201, \n",
            "Path # = 2, M = 256, True S10 = 1.0059048618844324, True M10 = 1.0059048618844322, Sn = 0.996889820356935, V10 = 0.08569365636283369, S10 - Sn = 0.009015041527497436, \n",
            "Path # = 2, M = 65536, True S10 = 1.0059048618844324, True M10 = 1.0059048618844322, Sn = 0.9968248523497985, V10 = 0.032827898782477286, S10 - Sn = 0.009080009534633948, \n",
            "Path # = 2, M = 1048576, True S10 = 1.0059048618844324, True M10 = 1.0059048618844322, Sn = 0.996901022044049, V10 = 0.06586102042931345, S10 - Sn = 0.009003839840383443, \n",
            "Path # = 3, M = 4, True S10 = 1.010833302863568, True M10 = 1.010833302863568, Sn = 1.0178691030692586, V10 = 0.06694885892745703, S10 - Sn = -0.007035800205690501, \n",
            "Path # = 3, M = 16, True S10 = 1.010833302863568, True M10 = 1.010833302863568, Sn = 0.9985765466111953, V10 = 0.02198623873907557, S10 - Sn = 0.012256756252372769, \n",
            "Path # = 3, M = 256, True S10 = 1.010833302863568, True M10 = 1.010833302863568, Sn = 1.0015681533039007, V10 = 0.06918577237564423, S10 - Sn = 0.009265149559667396, \n",
            "Path # = 3, M = 65536, True S10 = 1.010833302863568, True M10 = 1.010833302863568, Sn = 1.0017374141184967, V10 = 0.061311841611662955, S10 - Sn = 0.00909588874507139, \n",
            "Path # = 3, M = 1048576, True S10 = 1.010833302863568, True M10 = 1.010833302863568, Sn = 1.0017834179734608, V10 = 0.05974562375424769, S10 - Sn = 0.009049884890107274, \n",
            "Path # = 4, M = 4, True S10 = 1.010833302863568, True M10 = 1.010833302863568, Sn = 1.002780866071735, V10 = 0.0, S10 - Sn = 0.008052436791833095, \n",
            "Path # = 4, M = 16, True S10 = 1.010833302863568, True M10 = 1.010833302863568, Sn = 1.000364362875934, V10 = 0.027119172045273143, S10 - Sn = 0.010468939987634096, \n",
            "Path # = 4, M = 256, True S10 = 1.010833302863568, True M10 = 1.010833302863568, Sn = 1.0015619156377973, V10 = 0.09450037098622475, S10 - Sn = 0.00927138722577081, \n",
            "Path # = 4, M = 65536, True S10 = 1.010833302863568, True M10 = 1.010833302863568, Sn = 1.0017152017212456, V10 = 0.05840926186708661, S10 - Sn = 0.009118101142322477, \n",
            "Path # = 4, M = 1048576, True S10 = 1.010833302863568, True M10 = 1.010833302863568, Sn = 1.0017748181653905, V10 = 0.06311500312309243, S10 - Sn = 0.009058484698177605, \n",
            "Path # = 5, M = 4, True S10 = 1.0059048618844324, True M10 = 1.0059048618844324, Sn = 1.0100809130953676, V10 = 0.00545692852375331, S10 - Sn = -0.004176051210935228, \n",
            "Path # = 5, M = 16, True S10 = 1.0059048618844324, True M10 = 1.0059048618844324, Sn = 0.997901967051751, V10 = 0.027067991051879542, S10 - Sn = 0.008002894832681351, \n",
            "Path # = 5, M = 256, True S10 = 1.0059048618844324, True M10 = 1.0059048618844324, Sn = 0.9969378951049395, V10 = 0.0763442646558096, S10 - Sn = 0.008966966779492935, \n",
            "Path # = 5, M = 65536, True S10 = 1.0059048618844324, True M10 = 1.0059048618844324, Sn = 0.9968369148816366, V10 = 0.0038690522770263437, S10 - Sn = 0.009067947002795784, \n",
            "Path # = 5, M = 1048576, True S10 = 1.0059048618844324, True M10 = 1.0059048618844324, Sn = 0.9969297148869785, V10 = 0.04555397572991224, S10 - Sn = 0.008975146997453942, \n",
            "\n",
            "Average Difference (S0 - Sn) = 0.007499290547329345\n",
            "---------------------------------------------------------------------------------------------------------------------------------------------\n",
            "The Monte Carlo estimates from using the Lookback Option for SN is very accurate as the average difference between the estimated SN and true S0 values is shown to be relatively small.\n",
            "\n",
            "2.) Monte Carlo Method from using the Lookback Option for Fixed Path and Fixed M (Number of Samples) Values Simulation Results Where N = 100:\n",
            "-----------------------------------------------------------------------------------------------------------------------------------------------\n",
            "Iteration # = 1, M = 1048576, True S10 = 1.010833302863568, True M10 = 1.010833302863568, Sn = 1.0017889855734081, V10 = 0.037681371737006544, S10 - Sn = 0.009044317290159976\n",
            "Iteration # = 2, M = 1048576, True S10 = 1.010833302863568, True M10 = 1.010833302863568, Sn = 1.0018119993878232, V10 = 0.07745885544268816, S10 - Sn = 0.009021303475744924\n",
            "Iteration # = 3, M = 1048576, True S10 = 1.010833302863568, True M10 = 1.010833302863568, Sn = 1.0018066303384803, V10 = 0.025074216490073097, S10 - Sn = 0.00902667252508782\n",
            "Iteration # = 4, M = 1048576, True S10 = 1.010833302863568, True M10 = 1.010833302863568, Sn = 1.0018054662380258, V10 = 0.07868625738552526, S10 - Sn = 0.009027836625542296\n",
            "Iteration # = 5, M = 1048576, True S10 = 1.010833302863568, True M10 = 1.010833302863568, Sn = 1.0018192650514062, V10 = 0.06905576141773742, S10 - Sn = 0.009014037812161924\n",
            "Iteration # = 6, M = 1048576, True S10 = 1.010833302863568, True M10 = 1.010833302863568, Sn = 1.0017535524090073, V10 = 0.04563148270993753, S10 - Sn = 0.009079750454560775\n",
            "Iteration # = 7, M = 1048576, True S10 = 1.010833302863568, True M10 = 1.010833302863568, Sn = 1.0017935791187802, V10 = 0.04969188054667672, S10 - Sn = 0.009039723744787898\n",
            "Iteration # = 8, M = 1048576, True S10 = 1.010833302863568, True M10 = 1.010833302863568, Sn = 1.001799589136324, V10 = 0.06516582500479175, S10 - Sn = 0.009033713727244042\n",
            "Iteration # = 9, M = 1048576, True S10 = 1.010833302863568, True M10 = 1.010833302863568, Sn = 1.0017948894896187, V10 = 0.09305228418483127, S10 - Sn = 0.009038413373949394\n",
            "Iteration # = 10, M = 1048576, True S10 = 1.010833302863568, True M10 = 1.010833302863568, Sn = 1.001767134825424, V10 = 0.04326761616571659, S10 - Sn = 0.009066168038144085\n",
            "Iteration # = 11, M = 1048576, True S10 = 1.010833302863568, True M10 = 1.010833302863568, Sn = 1.0017658272235945, V10 = 0.03150922058414145, S10 - Sn = 0.009067475639973566\n",
            "Iteration # = 12, M = 1048576, True S10 = 1.010833302863568, True M10 = 1.010833302863568, Sn = 1.001755888489337, V10 = 0.059714414093398824, S10 - Sn = 0.009077414374231152\n",
            "Iteration # = 13, M = 1048576, True S10 = 1.010833302863568, True M10 = 1.010833302863568, Sn = 1.0017744489663507, V10 = 0.03151912107713486, S10 - Sn = 0.00905885389721739\n",
            "Iteration # = 14, M = 1048576, True S10 = 1.010833302863568, True M10 = 1.010833302863568, Sn = 1.001774014804657, V10 = 0.05812448039131668, S10 - Sn = 0.009059288058911097\n",
            "Iteration # = 15, M = 1048576, True S10 = 1.010833302863568, True M10 = 1.010833302863568, Sn = 1.0017956517745565, V10 = 0.04116298372139432, S10 - Sn = 0.009037651089011556\n",
            "Iteration # = 16, M = 1048576, True S10 = 1.010833302863568, True M10 = 1.010833302863568, Sn = 1.0017620837559809, V10 = 0.0426661890693999, S10 - Sn = 0.009071219107587236\n",
            "Iteration # = 17, M = 1048576, True S10 = 1.010833302863568, True M10 = 1.010833302863568, Sn = 1.0017766872650287, V10 = 0.044101784551274996, S10 - Sn = 0.00905661559853943\n",
            "Iteration # = 18, M = 1048576, True S10 = 1.010833302863568, True M10 = 1.010833302863568, Sn = 1.0018042599452044, V10 = 0.09041399489611415, S10 - Sn = 0.009029042918363706\n",
            "Iteration # = 19, M = 1048576, True S10 = 1.010833302863568, True M10 = 1.010833302863568, Sn = 1.0017650140510468, V10 = 0.06426784766294562, S10 - Sn = 0.009068288812521308\n",
            "Iteration # = 20, M = 1048576, True S10 = 1.010833302863568, True M10 = 1.010833302863568, Sn = 1.0018010662022487, V10 = 0.08579514902731586, S10 - Sn = 0.00903223666131936\n",
            "Iteration # = 21, M = 1048576, True S10 = 1.010833302863568, True M10 = 1.010833302863568, Sn = 1.0017709372491084, V10 = 0.08497926487126121, S10 - Sn = 0.009062365614459722\n",
            "Iteration # = 22, M = 1048576, True S10 = 1.010833302863568, True M10 = 1.010833302863568, Sn = 1.0017960552369454, V10 = 0.07440222232707044, S10 - Sn = 0.009037247626622724\n",
            "Iteration # = 23, M = 1048576, True S10 = 1.010833302863568, True M10 = 1.010833302863568, Sn = 1.0017681305562522, V10 = 0.04674816278130046, S10 - Sn = 0.00906517230731585\n",
            "Iteration # = 24, M = 1048576, True S10 = 1.010833302863568, True M10 = 1.010833302863568, Sn = 1.0018119271640167, V10 = 0.0025683733039116507, S10 - Sn = 0.009021375699551415\n",
            "Iteration # = 25, M = 1048576, True S10 = 1.010833302863568, True M10 = 1.010833302863568, Sn = 1.0017847591948121, V10 = 0.010769497565507307, S10 - Sn = 0.00904854366875596\n",
            "Iteration # = 26, M = 1048576, True S10 = 1.010833302863568, True M10 = 1.010833302863568, Sn = 1.0017620874060749, V10 = 0.035229873152614735, S10 - Sn = 0.009071215457493231\n",
            "Iteration # = 27, M = 1048576, True S10 = 1.010833302863568, True M10 = 1.010833302863568, Sn = 1.0017974097537823, V10 = 0.07028962791114123, S10 - Sn = 0.009035893109785809\n",
            "Iteration # = 28, M = 1048576, True S10 = 1.010833302863568, True M10 = 1.010833302863568, Sn = 1.0017901788837082, V10 = 0.06652991720187129, S10 - Sn = 0.009043123979859846\n",
            "Iteration # = 29, M = 1048576, True S10 = 1.010833302863568, True M10 = 1.010833302863568, Sn = 1.0017755677210747, V10 = 0.05109881650401098, S10 - Sn = 0.009057735142493417\n",
            "Iteration # = 30, M = 1048576, True S10 = 1.010833302863568, True M10 = 1.010833302863568, Sn = 1.0017526470854174, V10 = 0.053500693689012675, S10 - Sn = 0.009080655778150648\n",
            "Iteration # = 31, M = 1048576, True S10 = 1.010833302863568, True M10 = 1.010833302863568, Sn = 1.0017977211678786, V10 = 0.05733687286231447, S10 - Sn = 0.00903558169568952\n",
            "Iteration # = 32, M = 1048576, True S10 = 1.010833302863568, True M10 = 1.010833302863568, Sn = 1.0017878144846084, V10 = 0.05442399846737742, S10 - Sn = 0.009045488378959687\n",
            "Iteration # = 33, M = 1048576, True S10 = 1.010833302863568, True M10 = 1.010833302863568, Sn = 1.001766352534892, V10 = 0.015224143966218778, S10 - Sn = 0.009066950328675993\n",
            "Iteration # = 34, M = 1048576, True S10 = 1.010833302863568, True M10 = 1.010833302863568, Sn = 1.0017902019392542, V10 = 0.06064144046148393, S10 - Sn = 0.00904310092431393\n",
            "Iteration # = 35, M = 1048576, True S10 = 1.010833302863568, True M10 = 1.010833302863568, Sn = 1.001781774185301, V10 = 0.045807242090915114, S10 - Sn = 0.009051528678267085\n",
            "Iteration # = 36, M = 1048576, True S10 = 1.010833302863568, True M10 = 1.010833302863568, Sn = 1.0017913135624363, V10 = 0.028240561582912143, S10 - Sn = 0.009041989301131759\n",
            "Iteration # = 37, M = 1048576, True S10 = 1.010833302863568, True M10 = 1.010833302863568, Sn = 1.0017957723235833, V10 = 0.03232373527584913, S10 - Sn = 0.009037530539984795\n",
            "Iteration # = 38, M = 1048576, True S10 = 1.010833302863568, True M10 = 1.010833302863568, Sn = 1.0017800229702536, V10 = 0.06726898446329499, S10 - Sn = 0.009053279893314503\n",
            "Iteration # = 39, M = 1048576, True S10 = 1.010833302863568, True M10 = 1.010833302863568, Sn = 1.0017506024005203, V10 = 0.05779717649253475, S10 - Sn = 0.009082700463047821\n",
            "Iteration # = 40, M = 1048576, True S10 = 1.010833302863568, True M10 = 1.010833302863568, Sn = 1.0017897928694663, V10 = 0.04573587600377161, S10 - Sn = 0.00904350999410175\n",
            "Iteration # = 41, M = 1048576, True S10 = 1.010833302863568, True M10 = 1.010833302863568, Sn = 1.0017830252266138, V10 = 0.08513994628960647, S10 - Sn = 0.009050277636954318\n",
            "Iteration # = 42, M = 1048576, True S10 = 1.010833302863568, True M10 = 1.010833302863568, Sn = 1.00178211957059, V10 = 0.06640788014479483, S10 - Sn = 0.009051183292978049\n",
            "Iteration # = 43, M = 1048576, True S10 = 1.010833302863568, True M10 = 1.010833302863568, Sn = 1.001795901717842, V10 = 0.03577197828397587, S10 - Sn = 0.009037401145726154\n",
            "Iteration # = 44, M = 1048576, True S10 = 1.010833302863568, True M10 = 1.010833302863568, Sn = 1.001767089603704, V10 = 0.04959809892953378, S10 - Sn = 0.009066213259864009\n",
            "Iteration # = 45, M = 1048576, True S10 = 1.010833302863568, True M10 = 1.010833302863568, Sn = 1.001759408451763, V10 = 0.05013538761229744, S10 - Sn = 0.009073894411805172\n",
            "Iteration # = 46, M = 1048576, True S10 = 1.010833302863568, True M10 = 1.010833302863568, Sn = 1.0017837507347553, V10 = 0.07672582397343293, S10 - Sn = 0.009049552128812755\n",
            "Iteration # = 47, M = 1048576, True S10 = 1.010833302863568, True M10 = 1.010833302863568, Sn = 1.0017659090042066, V10 = 0.059179661691796136, S10 - Sn = 0.009067393859361506\n",
            "Iteration # = 48, M = 1048576, True S10 = 1.010833302863568, True M10 = 1.010833302863568, Sn = 1.0017814269291545, V10 = 0.010780350793599496, S10 - Sn = 0.009051875934413589\n",
            "Iteration # = 49, M = 1048576, True S10 = 1.010833302863568, True M10 = 1.010833302863568, Sn = 1.0017857799359968, V10 = 0.048703491070979966, S10 - Sn = 0.009047522927571272\n",
            "Iteration # = 50, M = 1048576, True S10 = 1.010833302863568, True M10 = 1.010833302863568, Sn = 1.0018047913186692, V10 = 0.048703046697621696, S10 - Sn = 0.00902851154489892\n",
            "\n",
            "Mean of the Sn values = 1.0017833261045799, Variance of the Sn Values = 2.9657263280635925e-10, Average Difference (S0 - Sn) = 0.009049976758988403\n",
            "----------------------------------------------------------------------------------------------------\n",
            "The Monte Carlo estimates for SN from using the lookback option here are shown to be consistently accurate since the mean of all the estimated SN values is very close to the true S0 value.\n",
            "In addition, the variance of the estimated SN values is also very low, which also shows that the results are consistently close in value to each other.\n",
            "The lookback option satisfies the martingale property, so therefore, the value of the option depends on the minimum price of the underlying asset over a specified period, which is a decreasing function of time.\n",
            "Therefore, as shown through the results where the True S10 value is extremely close to the True M10 value, the expected value of the option at the time of maturity is equal to its current value.\n"
          ]
        }
      ]
    }
  ]
}